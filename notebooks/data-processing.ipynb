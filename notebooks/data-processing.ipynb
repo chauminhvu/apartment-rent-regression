{
 "cells": [
  {
   "cell_type": "code",
   "execution_count": 106,
   "metadata": {},
   "outputs": [
    {
     "name": "stdout",
     "output_type": "stream",
     "text": [
      "The cudf.pandas extension is already loaded. To reload it, use:\n",
      "  %reload_ext cudf.pandas\n"
     ]
    }
   ],
   "source": [
    "%load_ext cudf.pandas\n",
    "import pandas as pd"
   ]
  },
  {
   "cell_type": "code",
   "execution_count": 107,
   "metadata": {},
   "outputs": [],
   "source": [
    "import sys\n",
    "sys.path.append(\"..\")\n",
    "sys.path.append(\"/home/vchau/.local/lib/python3.10/site-packages\")\n",
    "import sklearn.neighbors._base\n",
    "sys.modules['sklearn.neighbors.base'] = sklearn.neighbors._base\n",
    "from missingpy import MissForest\n",
    "import seaborn as sns\n",
    "import matplotlib.pyplot as plt\n",
    "import warnings\n",
    "warnings.filterwarnings('ignore')\n",
    "%matplotlib inline\n",
    "pd.set_option('display.max_rows', 50)\n",
    "pd.set_option('display.max_columns', 50)\n",
    "pd.set_option('display.width', 500)\n",
    "\n",
    "from src.data_processing import *\n",
    "sns.set_style(\"whitegrid\")\n",
    "sns.set_palette(\"deep\")\n",
    "sns.set(rc={'figure.figsize':(8,6)})\n"
   ]
  },
  {
   "cell_type": "markdown",
   "metadata": {},
   "source": [
    "# 1. Import data and inspections"
   ]
  },
  {
   "cell_type": "code",
   "execution_count": 108,
   "metadata": {},
   "outputs": [],
   "source": [
    "DATA_PATH = '../data/immo_data.csv'\n",
    "apartment_draw = pd.read_csv(DATA_PATH, header=0)"
   ]
  },
  {
   "cell_type": "markdown",
   "metadata": {},
   "source": [
    "## 1.1 An overview on the dataset"
   ]
  },
  {
   "cell_type": "markdown",
   "metadata": {},
   "source": [
    "The explanation of the each column can be found here: https://www.kaggle.com/datasets/corrieaar/apartment-rental-offers-in-germany/data"
   ]
  },
  {
   "cell_type": "code",
   "execution_count": 109,
   "metadata": {},
   "outputs": [
    {
     "data": {
      "text/html": [
       "<div>\n",
       "<style scoped>\n",
       "    .dataframe tbody tr th:only-of-type {\n",
       "        vertical-align: middle;\n",
       "    }\n",
       "\n",
       "    .dataframe tbody tr th {\n",
       "        vertical-align: top;\n",
       "    }\n",
       "\n",
       "    .dataframe thead th {\n",
       "        text-align: right;\n",
       "    }\n",
       "</style>\n",
       "<table border=\"1\" class=\"dataframe\">\n",
       "  <thead>\n",
       "    <tr style=\"text-align: right;\">\n",
       "      <th></th>\n",
       "      <th>serviceCharge</th>\n",
       "      <th>telekomHybridUploadSpeed</th>\n",
       "      <th>picturecount</th>\n",
       "      <th>pricetrend</th>\n",
       "      <th>telekomUploadSpeed</th>\n",
       "      <th>totalRent</th>\n",
       "      <th>yearConstructed</th>\n",
       "      <th>scoutId</th>\n",
       "      <th>noParkSpaces</th>\n",
       "      <th>yearConstructedRange</th>\n",
       "      <th>baseRent</th>\n",
       "      <th>livingSpace</th>\n",
       "      <th>baseRentRange</th>\n",
       "      <th>geo_plz</th>\n",
       "      <th>noRooms</th>\n",
       "      <th>thermalChar</th>\n",
       "      <th>floor</th>\n",
       "      <th>numberOfFloors</th>\n",
       "      <th>noRoomsRange</th>\n",
       "      <th>livingSpaceRange</th>\n",
       "      <th>heatingCosts</th>\n",
       "      <th>lastRefurbish</th>\n",
       "      <th>electricityBasePrice</th>\n",
       "      <th>electricityKwhPrice</th>\n",
       "    </tr>\n",
       "  </thead>\n",
       "  <tbody>\n",
       "    <tr>\n",
       "      <th>count</th>\n",
       "      <td>261941.000000</td>\n",
       "      <td>45020.0</td>\n",
       "      <td>268850.000000</td>\n",
       "      <td>267018.000000</td>\n",
       "      <td>235492.000000</td>\n",
       "      <td>2.283330e+05</td>\n",
       "      <td>211805.000000</td>\n",
       "      <td>2.688500e+05</td>\n",
       "      <td>93052.000000</td>\n",
       "      <td>211805.000000</td>\n",
       "      <td>2.688500e+05</td>\n",
       "      <td>268850.000000</td>\n",
       "      <td>268850.000000</td>\n",
       "      <td>268850.000000</td>\n",
       "      <td>268850.000000</td>\n",
       "      <td>162344.000000</td>\n",
       "      <td>217541.000000</td>\n",
       "      <td>171118.000000</td>\n",
       "      <td>268850.000000</td>\n",
       "      <td>268850.000000</td>\n",
       "      <td>85518.000000</td>\n",
       "      <td>80711.000000</td>\n",
       "      <td>46846.000000</td>\n",
       "      <td>46846.000000</td>\n",
       "    </tr>\n",
       "    <tr>\n",
       "      <th>mean</th>\n",
       "      <td>151.206113</td>\n",
       "      <td>10.0</td>\n",
       "      <td>9.791958</td>\n",
       "      <td>3.389001</td>\n",
       "      <td>28.804928</td>\n",
       "      <td>9.013315e+02</td>\n",
       "      <td>1966.400590</td>\n",
       "      <td>1.069697e+08</td>\n",
       "      <td>1.327634</td>\n",
       "      <td>3.714544</td>\n",
       "      <td>6.941294e+02</td>\n",
       "      <td>74.355548</td>\n",
       "      <td>3.765256</td>\n",
       "      <td>37283.022235</td>\n",
       "      <td>2.641261</td>\n",
       "      <td>114.749533</td>\n",
       "      <td>2.122405</td>\n",
       "      <td>3.572319</td>\n",
       "      <td>2.571542</td>\n",
       "      <td>3.070790</td>\n",
       "      <td>76.990866</td>\n",
       "      <td>2013.904536</td>\n",
       "      <td>89.113612</td>\n",
       "      <td>0.199769</td>\n",
       "    </tr>\n",
       "    <tr>\n",
       "      <th>std</th>\n",
       "      <td>308.295790</td>\n",
       "      <td>0.0</td>\n",
       "      <td>6.408399</td>\n",
       "      <td>1.964874</td>\n",
       "      <td>16.337151</td>\n",
       "      <td>3.323833e+04</td>\n",
       "      <td>46.992207</td>\n",
       "      <td>1.250093e+07</td>\n",
       "      <td>8.361403</td>\n",
       "      <td>2.738134</td>\n",
       "      <td>1.953602e+04</td>\n",
       "      <td>254.759208</td>\n",
       "      <td>2.214357</td>\n",
       "      <td>27798.037296</td>\n",
       "      <td>2.633440</td>\n",
       "      <td>61.653663</td>\n",
       "      <td>3.634934</td>\n",
       "      <td>6.375496</td>\n",
       "      <td>0.937594</td>\n",
       "      <td>1.407127</td>\n",
       "      <td>147.716278</td>\n",
       "      <td>10.963125</td>\n",
       "      <td>5.395805</td>\n",
       "      <td>0.009667</td>\n",
       "    </tr>\n",
       "    <tr>\n",
       "      <th>min</th>\n",
       "      <td>0.000000</td>\n",
       "      <td>10.0</td>\n",
       "      <td>0.000000</td>\n",
       "      <td>-12.330000</td>\n",
       "      <td>1.000000</td>\n",
       "      <td>0.000000e+00</td>\n",
       "      <td>1000.000000</td>\n",
       "      <td>2.887174e+07</td>\n",
       "      <td>0.000000</td>\n",
       "      <td>1.000000</td>\n",
       "      <td>0.000000e+00</td>\n",
       "      <td>0.000000</td>\n",
       "      <td>1.000000</td>\n",
       "      <td>852.000000</td>\n",
       "      <td>1.000000</td>\n",
       "      <td>0.100000</td>\n",
       "      <td>-1.000000</td>\n",
       "      <td>0.000000</td>\n",
       "      <td>1.000000</td>\n",
       "      <td>1.000000</td>\n",
       "      <td>0.000000</td>\n",
       "      <td>1015.000000</td>\n",
       "      <td>71.430000</td>\n",
       "      <td>0.170500</td>\n",
       "    </tr>\n",
       "    <tr>\n",
       "      <th>25%</th>\n",
       "      <td>95.000000</td>\n",
       "      <td>10.0</td>\n",
       "      <td>6.000000</td>\n",
       "      <td>2.000000</td>\n",
       "      <td>10.000000</td>\n",
       "      <td>4.698000e+02</td>\n",
       "      <td>1950.000000</td>\n",
       "      <td>1.066910e+08</td>\n",
       "      <td>1.000000</td>\n",
       "      <td>1.000000</td>\n",
       "      <td>3.380000e+02</td>\n",
       "      <td>54.000000</td>\n",
       "      <td>2.000000</td>\n",
       "      <td>9128.000000</td>\n",
       "      <td>2.000000</td>\n",
       "      <td>79.000000</td>\n",
       "      <td>1.000000</td>\n",
       "      <td>2.000000</td>\n",
       "      <td>2.000000</td>\n",
       "      <td>2.000000</td>\n",
       "      <td>54.000000</td>\n",
       "      <td>2012.000000</td>\n",
       "      <td>90.760000</td>\n",
       "      <td>0.191500</td>\n",
       "    </tr>\n",
       "    <tr>\n",
       "      <th>50%</th>\n",
       "      <td>135.000000</td>\n",
       "      <td>10.0</td>\n",
       "      <td>9.000000</td>\n",
       "      <td>3.390000</td>\n",
       "      <td>40.000000</td>\n",
       "      <td>6.500000e+02</td>\n",
       "      <td>1973.000000</td>\n",
       "      <td>1.111584e+08</td>\n",
       "      <td>1.000000</td>\n",
       "      <td>3.000000</td>\n",
       "      <td>4.900000e+02</td>\n",
       "      <td>67.320000</td>\n",
       "      <td>3.000000</td>\n",
       "      <td>38667.000000</td>\n",
       "      <td>3.000000</td>\n",
       "      <td>107.000000</td>\n",
       "      <td>2.000000</td>\n",
       "      <td>3.000000</td>\n",
       "      <td>3.000000</td>\n",
       "      <td>3.000000</td>\n",
       "      <td>70.000000</td>\n",
       "      <td>2017.000000</td>\n",
       "      <td>90.760000</td>\n",
       "      <td>0.198500</td>\n",
       "    </tr>\n",
       "    <tr>\n",
       "      <th>75%</th>\n",
       "      <td>190.000000</td>\n",
       "      <td>10.0</td>\n",
       "      <td>13.000000</td>\n",
       "      <td>4.570000</td>\n",
       "      <td>40.000000</td>\n",
       "      <td>9.850000e+02</td>\n",
       "      <td>1996.000000</td>\n",
       "      <td>1.137688e+08</td>\n",
       "      <td>1.000000</td>\n",
       "      <td>5.000000</td>\n",
       "      <td>7.990000e+02</td>\n",
       "      <td>87.000000</td>\n",
       "      <td>5.000000</td>\n",
       "      <td>57072.000000</td>\n",
       "      <td>3.000000</td>\n",
       "      <td>140.300000</td>\n",
       "      <td>3.000000</td>\n",
       "      <td>4.000000</td>\n",
       "      <td>3.000000</td>\n",
       "      <td>4.000000</td>\n",
       "      <td>90.000000</td>\n",
       "      <td>2019.000000</td>\n",
       "      <td>90.760000</td>\n",
       "      <td>0.205500</td>\n",
       "    </tr>\n",
       "    <tr>\n",
       "      <th>max</th>\n",
       "      <td>146118.000000</td>\n",
       "      <td>10.0</td>\n",
       "      <td>121.000000</td>\n",
       "      <td>14.920000</td>\n",
       "      <td>100.000000</td>\n",
       "      <td>1.575154e+07</td>\n",
       "      <td>2090.000000</td>\n",
       "      <td>1.157117e+08</td>\n",
       "      <td>2241.000000</td>\n",
       "      <td>9.000000</td>\n",
       "      <td>9.999999e+06</td>\n",
       "      <td>111111.000000</td>\n",
       "      <td>9.000000</td>\n",
       "      <td>99998.000000</td>\n",
       "      <td>999.990000</td>\n",
       "      <td>1996.000000</td>\n",
       "      <td>999.000000</td>\n",
       "      <td>999.000000</td>\n",
       "      <td>5.000000</td>\n",
       "      <td>7.000000</td>\n",
       "      <td>12613.000000</td>\n",
       "      <td>2919.000000</td>\n",
       "      <td>90.760000</td>\n",
       "      <td>0.227600</td>\n",
       "    </tr>\n",
       "  </tbody>\n",
       "</table>\n",
       "</div>"
      ],
      "text/plain": [
       "       serviceCharge  telekomHybridUploadSpeed   picturecount     pricetrend  telekomUploadSpeed     totalRent  yearConstructed       scoutId  noParkSpaces  yearConstructedRange      baseRent    livingSpace  baseRentRange        geo_plz        noRooms    thermalChar          floor  numberOfFloors   noRoomsRange  livingSpaceRange  heatingCosts  lastRefurbish  electricityBasePrice  electricityKwhPrice\n",
       "count  261941.000000                   45020.0  268850.000000  267018.000000       235492.000000  2.283330e+05    211805.000000  2.688500e+05  93052.000000         211805.000000  2.688500e+05  268850.000000  268850.000000  268850.000000  268850.000000  162344.000000  217541.000000   171118.000000  268850.000000     268850.000000  85518.000000   80711.000000          46846.000000         46846.000000\n",
       "mean      151.206113                      10.0       9.791958       3.389001           28.804928  9.013315e+02      1966.400590  1.069697e+08      1.327634              3.714544  6.941294e+02      74.355548       3.765256   37283.022235       2.641261     114.749533       2.122405        3.572319       2.571542          3.070790     76.990866    2013.904536             89.113612             0.199769\n",
       "std       308.295790                       0.0       6.408399       1.964874           16.337151  3.323833e+04        46.992207  1.250093e+07      8.361403              2.738134  1.953602e+04     254.759208       2.214357   27798.037296       2.633440      61.653663       3.634934        6.375496       0.937594          1.407127    147.716278      10.963125              5.395805             0.009667\n",
       "min         0.000000                      10.0       0.000000     -12.330000            1.000000  0.000000e+00      1000.000000  2.887174e+07      0.000000              1.000000  0.000000e+00       0.000000       1.000000     852.000000       1.000000       0.100000      -1.000000        0.000000       1.000000          1.000000      0.000000    1015.000000             71.430000             0.170500\n",
       "25%        95.000000                      10.0       6.000000       2.000000           10.000000  4.698000e+02      1950.000000  1.066910e+08      1.000000              1.000000  3.380000e+02      54.000000       2.000000    9128.000000       2.000000      79.000000       1.000000        2.000000       2.000000          2.000000     54.000000    2012.000000             90.760000             0.191500\n",
       "50%       135.000000                      10.0       9.000000       3.390000           40.000000  6.500000e+02      1973.000000  1.111584e+08      1.000000              3.000000  4.900000e+02      67.320000       3.000000   38667.000000       3.000000     107.000000       2.000000        3.000000       3.000000          3.000000     70.000000    2017.000000             90.760000             0.198500\n",
       "75%       190.000000                      10.0      13.000000       4.570000           40.000000  9.850000e+02      1996.000000  1.137688e+08      1.000000              5.000000  7.990000e+02      87.000000       5.000000   57072.000000       3.000000     140.300000       3.000000        4.000000       3.000000          4.000000     90.000000    2019.000000             90.760000             0.205500\n",
       "max    146118.000000                      10.0     121.000000      14.920000          100.000000  1.575154e+07      2090.000000  1.157117e+08   2241.000000              9.000000  9.999999e+06  111111.000000       9.000000   99998.000000     999.990000    1996.000000     999.000000      999.000000       5.000000          7.000000  12613.000000    2919.000000             90.760000             0.227600"
      ]
     },
     "execution_count": 109,
     "metadata": {},
     "output_type": "execute_result"
    }
   ],
   "source": [
    "apartment_draw.describe(datetime_is_numeric=True)"
   ]
  },
  {
   "cell_type": "code",
   "execution_count": 110,
   "metadata": {},
   "outputs": [
    {
     "name": "stdout",
     "output_type": "stream",
     "text": [
      "The number of feature are: 49 \n",
      "The number of example are: 268850\n"
     ]
    }
   ],
   "source": [
    "print(f\"The number of feature are: {apartment_draw.shape[1]} \\n\\\n",
    "The number of example are: {apartment_draw.shape[0]}\")"
   ]
  },
  {
   "cell_type": "code",
   "execution_count": 111,
   "metadata": {},
   "outputs": [
    {
     "name": "stdout",
     "output_type": "stream",
     "text": [
      "The list of features:\n",
      "\n",
      " ['regio1', 'serviceCharge', 'heatingType', 'telekomTvOffer', 'telekomHybridUploadSpeed', 'newlyConst', 'balcony', 'picturecount', 'pricetrend', 'telekomUploadSpeed', 'totalRent', 'yearConstructed', 'scoutId', 'noParkSpaces', 'firingTypes', 'hasKitchen', 'geo_bln', 'cellar', 'yearConstructedRange', 'baseRent', 'houseNumber', 'livingSpace', 'geo_krs', 'condition', 'interiorQual', 'petsAllowed', 'street', 'streetPlain', 'lift', 'baseRentRange', 'typeOfFlat', 'geo_plz', 'noRooms', 'thermalChar', 'floor', 'numberOfFloors', 'noRoomsRange', 'garden', 'livingSpaceRange', 'regio2', 'regio3', 'description', 'facilities', 'heatingCosts', 'energyEfficiencyClass', 'lastRefurbish', 'electricityBasePrice', 'electricityKwhPrice', 'date']\n"
     ]
    }
   ],
   "source": [
    "print(f\"The list of features:\\n\\n {apartment_draw.columns.to_list()}\")"
   ]
  },
  {
   "cell_type": "code",
   "execution_count": 112,
   "metadata": {},
   "outputs": [],
   "source": [
    "heating_full = apartment_draw[['regio2', 'heatingType','heatingCosts']]\n",
    "heating_df = apartment_draw[['regio2', 'heatingType','heatingCosts']].dropna()\n",
    "# Grouping by 'regio2' and 'heatingType' to calculate mean heating cost for each combination\n",
    "grouped_heating_combination = heating_df.groupby(['regio2', 'heatingType'])['heatingCosts'].median()\n",
    "\n",
    "# Resetting index to move 'regio2' and 'heatingType' from index to columns\n",
    "grouped_heating_combination = grouped_heating_combination.reset_index()\n",
    "grouped_heating_combination.head(30)\n",
    "# Grouping by 'regio2' to calculate the mean heating cost for each city\n",
    "mean_heating_by_city = grouped_heating_combination.groupby('regio2')['heatingCosts'].mean()"
   ]
  },
  {
   "cell_type": "code",
   "execution_count": 113,
   "metadata": {},
   "outputs": [],
   "source": [
    "# Grouping by 'regio2' to calculate the mean heating cost for each city\n",
    "mean_heating_by_city = grouped_heating_combination.groupby('regio2')['heatingCosts'].mean()\n",
    "# Resetting index to have 'regio2' as a column instead of index\n",
    "mean_heating_by_city = mean_heating_by_city.reset_index()"
   ]
  },
  {
   "cell_type": "markdown",
   "metadata": {},
   "source": [
    "## 1.2. Data cleaning"
   ]
  },
  {
   "cell_type": "markdown",
   "metadata": {},
   "source": [
    "* Since the data is scraped from immobilienscout24.de, each listing is identified by an unique ID number, presented in `scoutId` column. Hence, to check duplications of the data, all the duplications in `scoutId` is dropped."
   ]
  },
  {
   "cell_type": "code",
   "execution_count": 114,
   "metadata": {},
   "outputs": [],
   "source": [
    "# Use listing ID (`scoutId`) to check for dupplicated values\n",
    "apartment_df = apartment_draw.drop_duplicates(subset='scoutId')"
   ]
  },
  {
   "cell_type": "code",
   "execution_count": 115,
   "metadata": {},
   "outputs": [],
   "source": [
    "series_missing_values = pd.Series([1, None, 3, None, 5], name='A')\n",
    "result = count_missing_values(series_missing_values)"
   ]
  },
  {
   "cell_type": "markdown",
   "metadata": {},
   "source": [
    "After reviewing the explaination of each columns, the repeated information should be dropped.\n",
    "The table below shows the dropped columns that have dupplicated infomation:\n",
    "\n",
    "|Table name | Description | Note |\n",
    "| --------- | ----------- | ---- |\n",
    "|scoutId | | not needed anymore|\n",
    "|date | date of scrapping data | not relevant|\n",
    "|regio1 | replace with `distance` in feature engineering section | |\n",
    "|regio2 | replace with `distance` in feature engineering section | |\n",
    "|regio3 | replace with `distance` in feature engineering section | |\n",
    "|geo_bln | bundesland (state), same as regio1 | duplicated|\n",
    "|geo_krs | District or Kreis, same as regio2 | duplicated|\n",
    "|street | too specific and may not generalize well | duplicated |\n",
    "|streetPlain | too specific and may not generalize well| duplicated |\n",
    "|houseNumber | too specific and may not generalize well| duplicated |\n",
    "| thermalChar | it is deprecated | |\n",
    "| firingTypes| more detail of `heatingType` | duplicated |\n",
    "| telekomUploadSpeed| too specific and may not generalize well| |\n",
    "| telekomHybridUploadSpeed| too specific and may not generalize well| |\n",
    "| telekomTvOffer| `serviceCharge` cover this info| duplicated|\n",
    "| energyEfficiencyClass| `serviceCharge` cover this info| duplicated|\n",
    "| electricityBasePrice| `serviceCharge` cover this info | duplicated|\n",
    "| electricityKwhPrice| `serviceCharge` cover this info |duplicated|\n",
    "| livingSpaceRange| a diff. format of `livingSpace`|duplicated|\n",
    "| noRoomsRange|a diff. format of `noRooms`|duplicated|\n",
    "| baseRentRange |a diff. format of`baseRent` |duplicated|\n",
    "| yearConstructedRange |a diff. format of `yearConstructed` |duplicated|\n",
    "<!-- | newlyConst| a diff. format of `yearConstructed` |duplicated| -->"
   ]
  },
  {
   "cell_type": "code",
   "execution_count": 116,
   "metadata": {},
   "outputs": [],
   "source": [
    "delete_cols = ['scoutId', 'date', 'regio1', 'regio3','geo_bln', 'geo_krs', 'street', 'streetPlain',\n",
    "            'houseNumber', 'firingTypes','thermalChar', 'telekomUploadSpeed', 'telekomHybridUploadSpeed',\n",
    "            'telekomTvOffer', 'energyEfficiencyClass','electricityBasePrice','electricityKwhPrice',\n",
    "            'livingSpaceRange', 'noRoomsRange','baseRentRange','yearConstructedRange']\n",
    "\n",
    "apartment_df = apartment_df.drop(delete_cols, axis=1)"
   ]
  },
  {
   "cell_type": "markdown",
   "metadata": {},
   "source": [
    "* For the first part of the solution, two textual data columns are not considered, hence, they're dropped"
   ]
  },
  {
   "cell_type": "code",
   "execution_count": 117,
   "metadata": {},
   "outputs": [],
   "source": [
    "apartment_df = apartment_df.drop(['description', 'facilities'], axis=1)"
   ]
  },
  {
   "cell_type": "markdown",
   "metadata": {},
   "source": [
    "* Checking the missing values of each feature. List the number of missing values in each columns."
   ]
  },
  {
   "cell_type": "code",
   "execution_count": 118,
   "metadata": {},
   "outputs": [
    {
     "data": {
      "text/html": [
       "<div>\n",
       "<style scoped>\n",
       "    .dataframe tbody tr th:only-of-type {\n",
       "        vertical-align: middle;\n",
       "    }\n",
       "\n",
       "    .dataframe tbody tr th {\n",
       "        vertical-align: top;\n",
       "    }\n",
       "\n",
       "    .dataframe thead th {\n",
       "        text-align: right;\n",
       "    }\n",
       "</style>\n",
       "<table border=\"1\" class=\"dataframe\">\n",
       "  <thead>\n",
       "    <tr style=\"text-align: right;\">\n",
       "      <th></th>\n",
       "      <th>Missing count</th>\n",
       "      <th>Percentage</th>\n",
       "    </tr>\n",
       "  </thead>\n",
       "  <tbody>\n",
       "    <tr>\n",
       "      <th>lastRefurbish</th>\n",
       "      <td>188139</td>\n",
       "      <td>69.979171</td>\n",
       "    </tr>\n",
       "    <tr>\n",
       "      <th>heatingCosts</th>\n",
       "      <td>183332</td>\n",
       "      <td>68.191185</td>\n",
       "    </tr>\n",
       "    <tr>\n",
       "      <th>noParkSpaces</th>\n",
       "      <td>175798</td>\n",
       "      <td>65.388879</td>\n",
       "    </tr>\n",
       "    <tr>\n",
       "      <th>petsAllowed</th>\n",
       "      <td>114573</td>\n",
       "      <td>42.615957</td>\n",
       "    </tr>\n",
       "    <tr>\n",
       "      <th>interiorQual</th>\n",
       "      <td>112665</td>\n",
       "      <td>41.906267</td>\n",
       "    </tr>\n",
       "    <tr>\n",
       "      <th>numberOfFloors</th>\n",
       "      <td>97732</td>\n",
       "      <td>36.351869</td>\n",
       "    </tr>\n",
       "    <tr>\n",
       "      <th>condition</th>\n",
       "      <td>68489</td>\n",
       "      <td>25.474800</td>\n",
       "    </tr>\n",
       "    <tr>\n",
       "      <th>yearConstructed</th>\n",
       "      <td>57045</td>\n",
       "      <td>21.218151</td>\n",
       "    </tr>\n",
       "    <tr>\n",
       "      <th>floor</th>\n",
       "      <td>51309</td>\n",
       "      <td>19.084620</td>\n",
       "    </tr>\n",
       "    <tr>\n",
       "      <th>heatingType</th>\n",
       "      <td>44856</td>\n",
       "      <td>16.684397</td>\n",
       "    </tr>\n",
       "    <tr>\n",
       "      <th>totalRent</th>\n",
       "      <td>40517</td>\n",
       "      <td>15.070485</td>\n",
       "    </tr>\n",
       "    <tr>\n",
       "      <th>typeOfFlat</th>\n",
       "      <td>36614</td>\n",
       "      <td>13.618747</td>\n",
       "    </tr>\n",
       "    <tr>\n",
       "      <th>serviceCharge</th>\n",
       "      <td>6909</td>\n",
       "      <td>2.569834</td>\n",
       "    </tr>\n",
       "    <tr>\n",
       "      <th>pricetrend</th>\n",
       "      <td>1832</td>\n",
       "      <td>0.681421</td>\n",
       "    </tr>\n",
       "    <tr>\n",
       "      <th>newlyConst</th>\n",
       "      <td>0</td>\n",
       "      <td>0.000000</td>\n",
       "    </tr>\n",
       "    <tr>\n",
       "      <th>balcony</th>\n",
       "      <td>0</td>\n",
       "      <td>0.000000</td>\n",
       "    </tr>\n",
       "    <tr>\n",
       "      <th>picturecount</th>\n",
       "      <td>0</td>\n",
       "      <td>0.000000</td>\n",
       "    </tr>\n",
       "    <tr>\n",
       "      <th>hasKitchen</th>\n",
       "      <td>0</td>\n",
       "      <td>0.000000</td>\n",
       "    </tr>\n",
       "    <tr>\n",
       "      <th>cellar</th>\n",
       "      <td>0</td>\n",
       "      <td>0.000000</td>\n",
       "    </tr>\n",
       "    <tr>\n",
       "      <th>baseRent</th>\n",
       "      <td>0</td>\n",
       "      <td>0.000000</td>\n",
       "    </tr>\n",
       "    <tr>\n",
       "      <th>livingSpace</th>\n",
       "      <td>0</td>\n",
       "      <td>0.000000</td>\n",
       "    </tr>\n",
       "    <tr>\n",
       "      <th>lift</th>\n",
       "      <td>0</td>\n",
       "      <td>0.000000</td>\n",
       "    </tr>\n",
       "    <tr>\n",
       "      <th>geo_plz</th>\n",
       "      <td>0</td>\n",
       "      <td>0.000000</td>\n",
       "    </tr>\n",
       "    <tr>\n",
       "      <th>noRooms</th>\n",
       "      <td>0</td>\n",
       "      <td>0.000000</td>\n",
       "    </tr>\n",
       "    <tr>\n",
       "      <th>garden</th>\n",
       "      <td>0</td>\n",
       "      <td>0.000000</td>\n",
       "    </tr>\n",
       "    <tr>\n",
       "      <th>regio2</th>\n",
       "      <td>0</td>\n",
       "      <td>0.000000</td>\n",
       "    </tr>\n",
       "  </tbody>\n",
       "</table>\n",
       "</div>"
      ],
      "text/plain": [
       "                 Missing count  Percentage\n",
       "lastRefurbish           188139   69.979171\n",
       "heatingCosts            183332   68.191185\n",
       "noParkSpaces            175798   65.388879\n",
       "petsAllowed             114573   42.615957\n",
       "interiorQual            112665   41.906267\n",
       "numberOfFloors           97732   36.351869\n",
       "condition                68489   25.474800\n",
       "yearConstructed          57045   21.218151\n",
       "floor                    51309   19.084620\n",
       "heatingType              44856   16.684397\n",
       "totalRent                40517   15.070485\n",
       "typeOfFlat               36614   13.618747\n",
       "serviceCharge             6909    2.569834\n",
       "pricetrend                1832    0.681421\n",
       "newlyConst                   0    0.000000\n",
       "balcony                      0    0.000000\n",
       "picturecount                 0    0.000000\n",
       "hasKitchen                   0    0.000000\n",
       "cellar                       0    0.000000\n",
       "baseRent                     0    0.000000\n",
       "livingSpace                  0    0.000000\n",
       "lift                         0    0.000000\n",
       "geo_plz                      0    0.000000\n",
       "noRooms                      0    0.000000\n",
       "garden                       0    0.000000\n",
       "regio2                       0    0.000000"
      ]
     },
     "execution_count": 118,
     "metadata": {},
     "output_type": "execute_result"
    }
   ],
   "source": [
    "report = count_missing_values(apartment_df)\n",
    "report"
   ]
  },
  {
   "cell_type": "markdown",
   "metadata": {},
   "source": [
    "* It's evident that there plenty of columns that have high amount of missing data, and filling missing values techniues will be not effective with too high level of missing. Hence, dropping all columns with missing percentage > **35%**"
   ]
  },
  {
   "cell_type": "code",
   "execution_count": 119,
   "metadata": {},
   "outputs": [
    {
     "name": "stdout",
     "output_type": "stream",
     "text": [
      "The 6 dropped columns are:\n",
      " ['lastRefurbish', 'heatingCosts', 'noParkSpaces', 'petsAllowed', 'interiorQual', 'numberOfFloors']\n"
     ]
    }
   ],
   "source": [
    "# Drop columns with missing values above threshold\n",
    "threshold = 35\n",
    "cols_to_drop = report[report['Percentage'] > threshold].index.to_list()\n",
    "print(f'The {len(cols_to_drop)} dropped columns are:\\n', cols_to_drop)\n",
    "apartment_df = apartment_df.drop(cols_to_drop, axis=1)"
   ]
  },
  {
   "cell_type": "code",
   "execution_count": 120,
   "metadata": {},
   "outputs": [
    {
     "name": "stdout",
     "output_type": "stream",
     "text": [
      "The 20 remaining columns are:\n",
      "['serviceCharge', 'heatingType', 'newlyConst', 'balcony', 'picturecount', 'pricetrend', 'totalRent', 'yearConstructed', 'hasKitchen', 'cellar', 'baseRent', 'livingSpace', 'condition', 'lift', 'typeOfFlat', 'geo_plz', 'noRooms', 'floor', 'garden', 'regio2']\n"
     ]
    }
   ],
   "source": [
    "print(f'The {len(apartment_df.columns)} remaining columns are:')\n",
    "print(f\"{apartment_df.columns.to_list()}\")"
   ]
  },
  {
   "cell_type": "markdown",
   "metadata": {},
   "source": [
    "# 2. Outlier detection by employing Leys et al. (2013) and missing data inputation"
   ]
  },
  {
   "cell_type": "markdown",
   "metadata": {},
   "source": [
    "## 2.1 Fundamentals"
   ]
  },
  {
   "cell_type": "markdown",
   "metadata": {},
   "source": [
    "Detecting outliers by determining an interval spanning over the mean plus/minus three standard deviations (or z-score < $\\pm 3$) remains a common practice. However, since both the mean and the standard deviation are particularly **sensitive** to outliers, this method is problematic.\n",
    "\n",
    " Leys et al. (2013) recommended to use absolute deviation around the median, which is a more robust measure of dispersion.\n",
    "All the numeric columns are cleaned from outliers with criteria using the median absolute deviation (MAD). The process is as follows:\n",
    " 1. Compute the MAD taking the median of the absolute deviations from the data's median, i.e:\n",
    "        $$ \\mathrm{MAD} = \\frac{1}{Q(0.75)} * \\mathrm{med}\\big(\\vert x_i - \\mathrm{med}(\\mathbf{x}) \\vert \\big) \\quad i=1,\\dots,n \\, ,$$\n",
    "    where $Q(0.75)$: the 0.75 quantile of that underlying distribution; $\\mathrm{med}(\\mathbf{x})$: the median of set $\\mathbf{x}$ consiting of $n$ elements; $x_i$: the $i^{th}$ component of $\\mathbf{x}$.\n",
    " 2. Define a threshold $k$ for the rejection criterion:\n",
    "    $$ \\mathrm{med}(\\mathbf{x}) - k * \\mathrm{MAD} < x_i < \\mathrm{med}(\\mathbf{x}) + k * \\mathrm{MAD}$$\n",
    "    where $k$ is subjective choice and under debate.\n",
    "\n",
    "Leys recomned $k=\\pm2.5$, but needed to carefully justified case by case. Also, the number of outliers removed and their value must be reported."
   ]
  },
  {
   "cell_type": "code",
   "execution_count": 121,
   "metadata": {},
   "outputs": [
    {
     "data": {
      "image/png": "[encoded data removed]",
      "text/plain": [
       "<Figure size 1200x800 with 4 Axes>"
      ]
     },
     "metadata": {},
     "output_type": "display_data"
    }
   ],
   "source": [
    "plot_df = apartment_df[['totalRent', 'baseRent','serviceCharge', 'livingSpace']].copy()\n",
    "plot_df = plot_df[plot_df.notnull().all(1)]\n",
    "plot_df = plot_df.sample(frac=0.1)\n",
    "\n",
    "# Create a figure and a set of subplots\n",
    "fig, axes = plt.subplots(nrows=2, ncols=2, figsize=(12, 8))\n",
    "\n",
    "# Define a function to create a scatter plot\n",
    "def scatter_plot(plot_df, x, y, title, ax):\n",
    "    sns.scatterplot(data=plot_df, x=x, y=y, ax=ax)\n",
    "    ax.set_title(title)\n",
    "    ax.set_xlim([0, plot_df[x].quantile(.9999)])\n",
    "    ax.set_ylim([0, plot_df[y].quantile(.9999)])\n",
    "\n",
    "# Create the scatter plots\n",
    "scatter_plot(plot_df, 'livingSpace', 'totalRent', 'Living Space vs Total Rent', axes[0, 0])\n",
    "scatter_plot(plot_df, 'livingSpace', 'baseRent', 'Living Space vs Base Rent', axes[0, 1])\n",
    "scatter_plot(plot_df, 'livingSpace', 'serviceCharge', 'Living Space vs Service Charge', axes[1, 0])\n",
    "scatter_plot(plot_df, 'totalRent', 'baseRent', 'Total Rent vs Base Rent', axes[1, 1])\n",
    "\n",
    "plt.tight_layout()"
   ]
  },
  {
   "cell_type": "markdown",
   "metadata": {},
   "source": [
    "* Top left plot shows there are unreasonable values of `livingSpace` and `totalRent`. Plenty of `livingSpace`'s values near zeros or more than 350 $m^2$. Similarly for `totalRent` case, extreme values near zeros and very large values as $11 000$ euros/month.\n",
    "* Lower left graph show the same problems for `serviceCharge`\n",
    "* There are strong colinearlity of `totalRent` and `baseRent`, it makes sense since `totalRent` ~ `baseRent` + `serviceCharge`. However, there are some exeptions that needed to be filtered."
   ]
  },
  {
   "cell_type": "code",
   "execution_count": 122,
   "metadata": {},
   "outputs": [
    {
     "data": {
      "image/png": "[encoded data removed]",
      "text/plain": [
       "<Figure size 1200x800 with 4 Axes>"
      ]
     },
     "metadata": {},
     "output_type": "display_data"
    }
   ],
   "source": [
    "\n",
    "def hist_plot(x, num_bins, x_lim, color, x_label, title, ax):\n",
    "    ax.hist(x, num_bins, range=x_lim, color=color, label=x_label, alpha=0.7)\n",
    "    ax.set_title(title)\n",
    "    ax.legend()\n",
    "\n",
    "total_rent_log = cp.log10(apartment_df['totalRent']).get()\n",
    "livespace_log = cp.log10(apartment_df['livingSpace']).get()\n",
    "\n",
    "# Create a figure and a set of subplots\n",
    "fig, axes = plt.subplots(nrows=2, ncols=2, figsize=(12, 8), tight_layout=True)\n",
    "axes[0, 0].sharey(axes[0, 1])\n",
    "hist_plot(apartment_df['totalRent'], 50, [0, 8e3], 'tab:green',\n",
    "           'totalRent', 'Raw values of `totalRent`', axes[0, 0])\n",
    "hist_plot(total_rent_log, 50, [1, 4], 'tab:blue',\n",
    "           'Log-totalRent', r'$\\log$-scale of `totalRent`', axes[0, 1])\n",
    "\n",
    "axes[1, 0].sharey(axes[1, 1])\n",
    "hist_plot(apartment_df['livingSpace'], 50, [0, 300], 'tab:purple',\n",
    "           'livingSpace', 'Raw values of `livingSpace`', axes[1, 0])\n",
    "hist_plot(livespace_log, 50, [1, 4], 'tab:orange',\n",
    "           'Log-livingSpace', r'$\\log$-scale of `livingSpace`', axes[1, 1])"
   ]
  },
  {
   "cell_type": "markdown",
   "metadata": {},
   "source": [
    "The graphs above show the data are skew seriouly. When transforming the data to $\\log$-scale, they are closer to the normal distribution. This properties of this dataset in $\\log$-space will be employed for the effectiveness of outlier detection and buil machine learning model."
   ]
  },
  {
   "cell_type": "markdown",
   "metadata": {},
   "source": [
    "* Show the skewness of data:\n",
    "\n",
    "|Sknewness| Note|\n",
    "| ------- | --- |\n",
    "|[-0.5, 0.5] | fairly symmetrical|\n",
    "|[-1.0, -0.5]  | moderately right skewed|\n",
    "|[0.5, 1.0]  | moderately left skewed|\n",
    "|-1< or > 1 | highly skewed|\n"
   ]
  },
  {
   "cell_type": "markdown",
   "metadata": {},
   "source": [
    "## 2.2 Outliers detection process"
   ]
  },
  {
   "cell_type": "markdown",
   "metadata": {},
   "source": [
    "Since the method (Leys et al. (2023))does not mention about the treatments of catalogue data type, therfore, only numeric data are concerned. Also, for this work, normal distribution type is refered. The outlier cleaning process are as follows:\n",
    " 1. Numeric columns with `non-NAN` values are cloned for the outliers clean process.\n",
    " 2. Transform the highly skewed columns into log-space, determine, and store outliers' indices.\n",
    " 2. Store the idices of ouliers for each numeric column.\n",
    " 3. Drop all rows containing the outliers of the original dataframe using the stored indices. \n",
    "\n",
    "**Remark 1**: Logarithmic transformation push a skewed distribibution closer to the *normal distribution*. When applied to a positively skewed distribution (where the majority of data points are on the left side and the tail extends to the right), the log transformation tends to compress the larger values and spread out the smaller values. This has the effect of making the distribution more symmetric and closer to a normal distribution.\n",
    "\n",
    "**Remark 2**: Removing outliers makes the statistical properties more representative of the majority of the data, and should be performed before filling missing data. It is beneficial since this work will employ median for imputation."
   ]
  },
  {
   "cell_type": "code",
   "execution_count": 123,
   "metadata": {},
   "outputs": [],
   "source": [
    "# Get all numeric columns and assign to temp dataframe\n",
    "numeric_df = apartment_df.select_dtypes(include=['number']).copy()"
   ]
  },
  {
   "cell_type": "code",
   "execution_count": 124,
   "metadata": {},
   "outputs": [],
   "source": [
    "# No hypothetical flat are allowed !\n",
    "numeric_df = numeric_df.drop(numeric_df[numeric_df['yearConstructed'] > 2021].index)"
   ]
  },
  {
   "cell_type": "code",
   "execution_count": 125,
   "metadata": {},
   "outputs": [],
   "source": [
    "# column `floor` have min. val. < 0, which cannot apply $log$-scale.\n",
    "# Modify the foolor columns for cleaning\n",
    "numeric_df['floor'] = numeric_df['floor'] + 1.0"
   ]
  },
  {
   "cell_type": "code",
   "execution_count": 126,
   "metadata": {},
   "outputs": [
    {
     "data": {
      "text/plain": [
       "baseRent           500.195487\n",
       "totalRent          466.561437\n",
       "serviceCharge      409.161958\n",
       "livingSpace        373.834813\n",
       "noRooms            249.534429\n",
       "floor              155.438087\n",
       "picturecount         1.808720\n",
       "geo_plz              0.430634\n",
       "pricetrend           0.383596\n",
       "yearConstructed     -4.565230\n",
       "dtype: float64"
      ]
     },
     "execution_count": 126,
     "metadata": {},
     "output_type": "execute_result"
    }
   ],
   "source": [
    "# Skewness of each numeric column before cleaning outliers\n",
    "numeric_df.skew(axis=0, skipna=True).sort_values(ascending=False)"
   ]
  },
  {
   "cell_type": "markdown",
   "metadata": {},
   "source": [
    "Manually inspection is needed for choosing the threshold factor $k$ of the MAD rejection criteria. By reviewing the results of the bounds combining with domain knowlege is needed to make sure it is appropriate for the dataset. For example:\n",
    "It is appropriated for the `yearConstructed` contains values lower than the year: 1600s, since there are accient buildings in Germany.\n",
    " \n",
    "All heavily skewed columns should be transformed. "
   ]
  },
  {
   "cell_type": "code",
   "execution_count": 127,
   "metadata": {},
   "outputs": [
    {
     "name": "stdout",
     "output_type": "stream",
     "text": [
      "========================================\n",
      "Corrected range for baseRent:\n",
      "72.844804 < baseRent < 3263.698197\n",
      "Number of outliers (lower): 176\n",
      "Number of outliers (upper): 1133\n",
      "Shape 267534\n",
      "========================================\n",
      "Corrected range for totalRent:\n",
      "127.590080 < totalRent < 4288.975373\n",
      "Number of outliers (lower): 286\n",
      "Number of outliers (upper): 16\n",
      "Shape 267232\n",
      "========================================\n",
      "Corrected range for serviceCharge:\n",
      "28.923240 < serviceCharge < 794.531882\n",
      "Number of outliers (lower): 3872\n",
      "Number of outliers (upper): 82\n",
      "Shape 263278\n",
      "========================================\n",
      "Corrected range for livingSpace:\n",
      "11.603145 < livingSpace < 264.235472\n",
      "Number of outliers (lower): 192\n",
      "Number of outliers (upper): 155\n",
      "Shape 262931\n",
      "========================================\n",
      "Corrected range for noRooms:\n",
      "0.479228 < noRooms < 9.816452\n",
      "Number of outliers (lower): 0\n",
      "Number of outliers (upper): 37\n",
      "Shape 262894\n",
      "========================================\n",
      "Corrected range for floor:\n",
      "-0.276524 < floor < 21.115453\n",
      "Number of outliers (lower): 0\n",
      "Number of outliers (upper): 53\n",
      "Shape 262841\n",
      "========================================\n",
      "Corrected range for yearConstructed:\n",
      "1589.345985 < yearConstructed < 2081.264775\n",
      "Number of outliers (lower): 225\n",
      "Number of outliers (upper): 0\n",
      "Shape 262616\n"
     ]
    }
   ],
   "source": [
    "# Initialize a dictionary to store the bounds and outlier indices\n",
    "bounds_and_outliers = {}\n",
    "\n",
    "scale_col = ['baseRent', 'totalRent','serviceCharge','livingSpace', 'noRooms', 'floor', 'yearConstructed']\n",
    "# Need manual inspection\n",
    "threshold = [[3,3], [3,3.5], [3, 3.5], [5., 4.], [3., 3.], [4, 4.], [12.,3]]\n",
    "\n",
    "\n",
    "for col, k in zip(scale_col, threshold):\n",
    "    # Drop NaN values\n",
    "    clean_col = numeric_df[col][numeric_df[col].notna()]\n",
    "    # Check values before applying log-scale transformation\n",
    "    assert clean_col.min() >= 0\n",
    "    # Transform to log-scale\n",
    "    log_col = cp.log1p(clean_col)    \n",
    "\n",
    "    # Get the boundary of ouliers\n",
    "    lower_, upper_  = compute_mad_1d(log_col, k)\n",
    "    upper, lower = cp.expm1(upper_), cp.expm1(lower_)\n",
    "\n",
    "    print('='*40)\n",
    "    print(f'Corrected range for {col}:')\n",
    "    print(f'{lower:2f} < {col} < {upper:2f}')\n",
    "    print(f'Number of outliers (lower): {clean_col[clean_col < lower].shape[0]}')\n",
    "    print(f'Number of outliers (upper): {clean_col[clean_col > upper].shape[0]}')\n",
    "    # Find the outliers\n",
    "    outliers = numeric_df[(numeric_df[col] < lower) | (numeric_df[col] > upper)]\n",
    "    numeric_df = numeric_df.drop(outliers.index)\n",
    "    print(\"Shape\", numeric_df.shape[0])"
   ]
  },
  {
   "cell_type": "code",
   "execution_count": 128,
   "metadata": {},
   "outputs": [
    {
     "data": {
      "text/plain": [
       "floor              1.991502\n",
       "baseRent           1.977961\n",
       "totalRent          1.923496\n",
       "picturecount       1.831201\n",
       "serviceCharge      1.516230\n",
       "livingSpace        1.293129\n",
       "noRooms            0.541794\n",
       "geo_plz            0.451301\n",
       "pricetrend         0.394215\n",
       "yearConstructed   -1.290971\n",
       "dtype: float64"
      ]
     },
     "execution_count": 128,
     "metadata": {},
     "output_type": "execute_result"
    }
   ],
   "source": [
    "# Verifying skewness of each numeric column ater cleaning outliers\n",
    "numeric_df.skew(axis=0, skipna=True).sort_values(ascending=False)"
   ]
  },
  {
   "cell_type": "markdown",
   "metadata": {},
   "source": [
    "The skewness is signigicantly improved!"
   ]
  },
  {
   "cell_type": "code",
   "execution_count": 129,
   "metadata": {},
   "outputs": [
    {
     "name": "stdout",
     "output_type": "stream",
     "text": [
      "Total ouliers dectected: 6234\n",
      "Percentage of outliers: 2.318765 %\n"
     ]
    }
   ],
   "source": [
    "list_outlier_idx = apartment_df.select_dtypes(include=['number']).index.difference(numeric_df.index).tolist()\n",
    "print(f\"Total ouliers dectected: {len(list_outlier_idx)}\")\n",
    "outliers_percent = 100 * (len(list_outlier_idx) / apartment_df.shape[0])\n",
    "print(f'Percentage of outliers: {outliers_percent:3f} %')"
   ]
  },
  {
   "cell_type": "markdown",
   "metadata": {},
   "source": [
    "* Finally, Drop all the outliers using their indices"
   ]
  },
  {
   "cell_type": "code",
   "execution_count": 130,
   "metadata": {},
   "outputs": [],
   "source": [
    "apartment_clean_df = apartment_df.drop(list_outlier_idx)"
   ]
  },
  {
   "cell_type": "markdown",
   "metadata": {},
   "source": [
    "## 2.3 Missing value inputation"
   ]
  },
  {
   "cell_type": "markdown",
   "metadata": {},
   "source": [
    "### 2.3.1 Filling `serviceCharge` values using median service charge of their respective city"
   ]
  },
  {
   "cell_type": "markdown",
   "metadata": {},
   "source": [
    "Asumme that the service charges such as TV, internet, etc.. are not varying too much in the same city/town.\\\n",
    "Filling missing `serviceCharge` values with the median `serviceCharge` of their respective city (`regio2`). "
   ]
  },
  {
   "cell_type": "code",
   "execution_count": 131,
   "metadata": {},
   "outputs": [],
   "source": [
    "service_full = apartment_clean_df[['regio2', 'serviceCharge']].copy()\n",
    "# Calculate the median service charge for each city\n",
    "# `median` function automatically ignore NaN values\n",
    "city_median_service = service_full.groupby('regio2')['serviceCharge'].transform('median')\n",
    "# Fill missing values\n",
    "service_full['serviceCharge'].fillna(city_median_service, inplace=True)\n",
    "\n",
    "# Add to the main df\n",
    "apartment_clean_df['serviceCharge'] = service_full['serviceCharge']"
   ]
  },
  {
   "cell_type": "markdown",
   "metadata": {},
   "source": [
    "### 2.3.2 Filling `totalRent` values using data from `baseRent` + `serviceCharge` "
   ]
  },
  {
   "cell_type": "code",
   "execution_count": 132,
   "metadata": {},
   "outputs": [
    {
     "data": {
      "text/html": [
       "<div>\n",
       "<style scoped>\n",
       "    .dataframe tbody tr th:only-of-type {\n",
       "        vertical-align: middle;\n",
       "    }\n",
       "\n",
       "    .dataframe tbody tr th {\n",
       "        vertical-align: top;\n",
       "    }\n",
       "\n",
       "    .dataframe thead th {\n",
       "        text-align: right;\n",
       "    }\n",
       "</style>\n",
       "<table border=\"1\" class=\"dataframe\">\n",
       "  <thead>\n",
       "    <tr style=\"text-align: right;\">\n",
       "      <th></th>\n",
       "      <th>Missing count</th>\n",
       "      <th>Percentage</th>\n",
       "    </tr>\n",
       "  </thead>\n",
       "  <tbody>\n",
       "    <tr>\n",
       "      <th>totalRent</th>\n",
       "      <td>39931</td>\n",
       "      <td>15.20509</td>\n",
       "    </tr>\n",
       "    <tr>\n",
       "      <th>baseRent</th>\n",
       "      <td>0</td>\n",
       "      <td>0.00000</td>\n",
       "    </tr>\n",
       "    <tr>\n",
       "      <th>serviceCharge</th>\n",
       "      <td>0</td>\n",
       "      <td>0.00000</td>\n",
       "    </tr>\n",
       "  </tbody>\n",
       "</table>\n",
       "</div>"
      ],
      "text/plain": [
       "               Missing count  Percentage\n",
       "totalRent              39931    15.20509\n",
       "baseRent                   0     0.00000\n",
       "serviceCharge              0     0.00000"
      ]
     },
     "execution_count": 132,
     "metadata": {},
     "output_type": "execute_result"
    }
   ],
   "source": [
    "# Current missing value rate\n",
    "total_rent_df = apartment_clean_df[['totalRent', 'baseRent', 'serviceCharge']].copy()\n",
    "count_missing_values(total_rent_df)"
   ]
  },
  {
   "cell_type": "markdown",
   "metadata": {},
   "source": [
    "From the data description: Total rent (usually a sum of base rent, service charge and heating cost). So\n",
    "* The strategy is assume `totalRent` = `baseRent` + `serviceCharge` + **heatingCost**"
   ]
  },
  {
   "cell_type": "code",
   "execution_count": 133,
   "metadata": {},
   "outputs": [
    {
     "name": "stdout",
     "output_type": "stream",
     "text": [
      "Percentage of zero residue: 72.46 %\n",
      "Percentage of positive residue: 25.59 %\n",
      "Percentage of negative residue: 1.95 %\n"
     ]
    }
   ],
   "source": [
    "tol = 5  # make tolerant to 5 euros\n",
    "totalrent_nan_idx = total_rent_df[total_rent_df['totalRent'].isna()].index\n",
    "\n",
    "# The residue of total rent - (base rent + service charge)\n",
    "total_rent_df['residue'] = total_rent_df['totalRent'] \\\n",
    "    - (total_rent_df['baseRent'] + total_rent_df['serviceCharge'])\n",
    "\n",
    "# Compute the percentage of exact, possitive, negative of residue\n",
    "poss = total_rent_df['residue'][total_rent_df['residue']\n",
    "            > tol].count() / total_rent_df['residue'].shape[0]\n",
    "neg = total_rent_df['residue'][total_rent_df['residue']\n",
    "           < -tol].count() / total_rent_df['residue'].shape[0]\n",
    "exact = 1 - poss - neg\n",
    "\n",
    "print(f'Percentage of zero residue: {100 * exact:.2f} %')\n",
    "print(f'Percentage of positive residue: {100 * poss:.2f} %')\n",
    "print(f'Percentage of negative residue: {100 * neg:.2f} %')"
   ]
  },
  {
   "cell_type": "markdown",
   "metadata": {},
   "source": [
    "- The results show that the reported `totalRent` is acctually a combination of `baseRent` and `serviceCharge` accounted for $72.46 \\%$. This indicates the listings posted every charges as a lum sum charge.\n",
    "- $25.59 \\%$ possitive value can be assumed to be the `heatingCosts` (this column is dropped in previous step because its missing percentage upto 70%).\n",
    "- $1.95 \\%$ of the listings have negative values of residue indicating there are probplems.\n",
    "\n",
    "Note: these results are not taken in account `NaN` rows"
   ]
  },
  {
   "cell_type": "markdown",
   "metadata": {},
   "source": [
    "Filling `NaN` in total rent column. Also, to keep the statistical properties, $25.59 \\%$ of the recently filled values are added with the median of possitive residue"
   ]
  },
  {
   "cell_type": "code",
   "execution_count": 134,
   "metadata": {},
   "outputs": [],
   "source": [
    "# Sum values of base rent and service charge at such indices\n",
    "rent_sum_val = total_rent_df.loc[totalrent_nan_idx, 'baseRent'] + total_rent_df.loc[totalrent_nan_idx, 'serviceCharge']\n",
    "\n",
    "# When dropping the negative residue value the statistic numbers will change\n",
    "# Recompute the possitive vals rate\n",
    "poss_new = total_rent_df['residue'][total_rent_df['residue'] > tol].count() / total_rent_df['residue'].shape[0]\n",
    "\n",
    "# Plus the median of service charge as additional costs for poss_new fraction\n",
    "poss_fraction = rent_sum_val.sample(frac=poss_new, random_state=2024)\n",
    "rent_sum_val.loc[poss_fraction.index] += total_rent_df['residue'][total_rent_df['residue'] > tol].median()\n",
    "\n",
    "# Fill NaN values from the sum to the main dataframe\n",
    "total_rent_df.loc[totalrent_nan_idx,'totalRent'] = rent_sum_val"
   ]
  },
  {
   "cell_type": "markdown",
   "metadata": {},
   "source": [
    "Dropping all the rows that have negative value of residue."
   ]
  },
  {
   "cell_type": "code",
   "execution_count": 135,
   "metadata": {},
   "outputs": [
    {
     "name": "stdout",
     "output_type": "stream",
     "text": [
      "Number of rows will be dropped: 5115\n"
     ]
    }
   ],
   "source": [
    "# Drop rows with negative residue\n",
    "neg_index = total_rent_df['residue'][total_rent_df['residue'] < -tol].index\n",
    "print(f'Number of rows will be dropped: {len(neg_index)}')\n",
    "apartment_clean_df['totalRent'] = total_rent_df['totalRent']\n",
    "apartment_clean_df = apartment_clean_df.drop(neg_index)"
   ]
  },
  {
   "cell_type": "code",
   "execution_count": 136,
   "metadata": {},
   "outputs": [
    {
     "data": {
      "text/html": [
       "<div>\n",
       "<style scoped>\n",
       "    .dataframe tbody tr th:only-of-type {\n",
       "        vertical-align: middle;\n",
       "    }\n",
       "\n",
       "    .dataframe tbody tr th {\n",
       "        vertical-align: top;\n",
       "    }\n",
       "\n",
       "    .dataframe thead th {\n",
       "        text-align: right;\n",
       "    }\n",
       "</style>\n",
       "<table border=\"1\" class=\"dataframe\">\n",
       "  <thead>\n",
       "    <tr style=\"text-align: right;\">\n",
       "      <th></th>\n",
       "      <th>Missing count</th>\n",
       "      <th>Percentage</th>\n",
       "    </tr>\n",
       "  </thead>\n",
       "  <tbody>\n",
       "    <tr>\n",
       "      <th>totalRent</th>\n",
       "      <td>0</td>\n",
       "      <td>0.0</td>\n",
       "    </tr>\n",
       "  </tbody>\n",
       "</table>\n",
       "</div>"
      ],
      "text/plain": [
       "           Missing count  Percentage\n",
       "totalRent              0         0.0"
      ]
     },
     "execution_count": 136,
     "metadata": {},
     "output_type": "execute_result"
    }
   ],
   "source": [
    "count_missing_values(apartment_clean_df['totalRent'])"
   ]
  },
  {
   "cell_type": "markdown",
   "metadata": {},
   "source": [
    "### 2.3.3 Filling other numeric data"
   ]
  },
  {
   "cell_type": "code",
   "execution_count": 137,
   "metadata": {},
   "outputs": [
    {
     "data": {
      "text/html": [
       "<div>\n",
       "<style scoped>\n",
       "    .dataframe tbody tr th:only-of-type {\n",
       "        vertical-align: middle;\n",
       "    }\n",
       "\n",
       "    .dataframe tbody tr th {\n",
       "        vertical-align: top;\n",
       "    }\n",
       "\n",
       "    .dataframe thead th {\n",
       "        text-align: right;\n",
       "    }\n",
       "</style>\n",
       "<table border=\"1\" class=\"dataframe\">\n",
       "  <thead>\n",
       "    <tr style=\"text-align: right;\">\n",
       "      <th></th>\n",
       "      <th>Missing count</th>\n",
       "      <th>Percentage</th>\n",
       "    </tr>\n",
       "  </thead>\n",
       "  <tbody>\n",
       "    <tr>\n",
       "      <th>condition</th>\n",
       "      <td>63308</td>\n",
       "      <td>24.585536</td>\n",
       "    </tr>\n",
       "    <tr>\n",
       "      <th>yearConstructed</th>\n",
       "      <td>53525</td>\n",
       "      <td>20.786327</td>\n",
       "    </tr>\n",
       "    <tr>\n",
       "      <th>floor</th>\n",
       "      <td>47742</td>\n",
       "      <td>18.540511</td>\n",
       "    </tr>\n",
       "    <tr>\n",
       "      <th>heatingType</th>\n",
       "      <td>40535</td>\n",
       "      <td>15.741686</td>\n",
       "    </tr>\n",
       "    <tr>\n",
       "      <th>typeOfFlat</th>\n",
       "      <td>33631</td>\n",
       "      <td>13.060532</td>\n",
       "    </tr>\n",
       "    <tr>\n",
       "      <th>pricetrend</th>\n",
       "      <td>1775</td>\n",
       "      <td>0.689318</td>\n",
       "    </tr>\n",
       "    <tr>\n",
       "      <th>serviceCharge</th>\n",
       "      <td>0</td>\n",
       "      <td>0.000000</td>\n",
       "    </tr>\n",
       "    <tr>\n",
       "      <th>newlyConst</th>\n",
       "      <td>0</td>\n",
       "      <td>0.000000</td>\n",
       "    </tr>\n",
       "    <tr>\n",
       "      <th>balcony</th>\n",
       "      <td>0</td>\n",
       "      <td>0.000000</td>\n",
       "    </tr>\n",
       "    <tr>\n",
       "      <th>picturecount</th>\n",
       "      <td>0</td>\n",
       "      <td>0.000000</td>\n",
       "    </tr>\n",
       "    <tr>\n",
       "      <th>totalRent</th>\n",
       "      <td>0</td>\n",
       "      <td>0.000000</td>\n",
       "    </tr>\n",
       "    <tr>\n",
       "      <th>hasKitchen</th>\n",
       "      <td>0</td>\n",
       "      <td>0.000000</td>\n",
       "    </tr>\n",
       "    <tr>\n",
       "      <th>cellar</th>\n",
       "      <td>0</td>\n",
       "      <td>0.000000</td>\n",
       "    </tr>\n",
       "    <tr>\n",
       "      <th>baseRent</th>\n",
       "      <td>0</td>\n",
       "      <td>0.000000</td>\n",
       "    </tr>\n",
       "    <tr>\n",
       "      <th>livingSpace</th>\n",
       "      <td>0</td>\n",
       "      <td>0.000000</td>\n",
       "    </tr>\n",
       "    <tr>\n",
       "      <th>lift</th>\n",
       "      <td>0</td>\n",
       "      <td>0.000000</td>\n",
       "    </tr>\n",
       "    <tr>\n",
       "      <th>geo_plz</th>\n",
       "      <td>0</td>\n",
       "      <td>0.000000</td>\n",
       "    </tr>\n",
       "    <tr>\n",
       "      <th>noRooms</th>\n",
       "      <td>0</td>\n",
       "      <td>0.000000</td>\n",
       "    </tr>\n",
       "    <tr>\n",
       "      <th>garden</th>\n",
       "      <td>0</td>\n",
       "      <td>0.000000</td>\n",
       "    </tr>\n",
       "    <tr>\n",
       "      <th>regio2</th>\n",
       "      <td>0</td>\n",
       "      <td>0.000000</td>\n",
       "    </tr>\n",
       "  </tbody>\n",
       "</table>\n",
       "</div>"
      ],
      "text/plain": [
       "                 Missing count  Percentage\n",
       "condition                63308   24.585536\n",
       "yearConstructed          53525   20.786327\n",
       "floor                    47742   18.540511\n",
       "heatingType              40535   15.741686\n",
       "typeOfFlat               33631   13.060532\n",
       "pricetrend                1775    0.689318\n",
       "serviceCharge                0    0.000000\n",
       "newlyConst                   0    0.000000\n",
       "balcony                      0    0.000000\n",
       "picturecount                 0    0.000000\n",
       "totalRent                    0    0.000000\n",
       "hasKitchen                   0    0.000000\n",
       "cellar                       0    0.000000\n",
       "baseRent                     0    0.000000\n",
       "livingSpace                  0    0.000000\n",
       "lift                         0    0.000000\n",
       "geo_plz                      0    0.000000\n",
       "noRooms                      0    0.000000\n",
       "garden                       0    0.000000\n",
       "regio2                       0    0.000000"
      ]
     },
     "execution_count": 137,
     "metadata": {},
     "output_type": "execute_result"
    }
   ],
   "source": [
    "count_missing_values(apartment_clean_df)"
   ]
  },
  {
   "cell_type": "code",
   "execution_count": 138,
   "metadata": {},
   "outputs": [],
   "source": [
    "# Define the columns to impute\n",
    "columns_to_impute = ['yearConstructed', 'floor', 'pricetrend']\n",
    "\n",
    "apartment_clean_df[columns_to_impute] = apartment_clean_df[columns_to_impute].apply(pd.to_numeric, errors='coerce')\n",
    "apartment_clean_df = apartment_clean_df.fillna()"
   ]
  },
  {
   "cell_type": "code",
   "execution_count": 139,
   "metadata": {},
   "outputs": [],
   "source": [
    "apartment_clean_df[columns_to_impute] = apartment_clean_df[columns_to_impute].fillna(apartment_clean_df[columns_to_impute].median())"
   ]
  },
  {
   "cell_type": "code",
   "execution_count": 140,
   "metadata": {},
   "outputs": [
    {
     "data": {
      "text/html": [
       "<div>\n",
       "<style scoped>\n",
       "    .dataframe tbody tr th:only-of-type {\n",
       "        vertical-align: middle;\n",
       "    }\n",
       "\n",
       "    .dataframe tbody tr th {\n",
       "        vertical-align: top;\n",
       "    }\n",
       "\n",
       "    .dataframe thead th {\n",
       "        text-align: right;\n",
       "    }\n",
       "</style>\n",
       "<table border=\"1\" class=\"dataframe\">\n",
       "  <thead>\n",
       "    <tr style=\"text-align: right;\">\n",
       "      <th></th>\n",
       "      <th>yearConstructed</th>\n",
       "      <th>floor</th>\n",
       "      <th>pricetrend</th>\n",
       "    </tr>\n",
       "  </thead>\n",
       "  <tbody>\n",
       "    <tr>\n",
       "      <th>0</th>\n",
       "      <td>1965.0</td>\n",
       "      <td>1.0</td>\n",
       "      <td>4.62</td>\n",
       "    </tr>\n",
       "    <tr>\n",
       "      <th>1</th>\n",
       "      <td>1871.0</td>\n",
       "      <td>2.0</td>\n",
       "      <td>3.47</td>\n",
       "    </tr>\n",
       "    <tr>\n",
       "      <th>2</th>\n",
       "      <td>2019.0</td>\n",
       "      <td>3.0</td>\n",
       "      <td>2.72</td>\n",
       "    </tr>\n",
       "    <tr>\n",
       "      <th>3</th>\n",
       "      <td>1964.0</td>\n",
       "      <td>3.0</td>\n",
       "      <td>1.53</td>\n",
       "    </tr>\n",
       "    <tr>\n",
       "      <th>4</th>\n",
       "      <td>1950.0</td>\n",
       "      <td>1.0</td>\n",
       "      <td>2.46</td>\n",
       "    </tr>\n",
       "    <tr>\n",
       "      <th>...</th>\n",
       "      <td>...</td>\n",
       "      <td>...</td>\n",
       "      <td>...</td>\n",
       "    </tr>\n",
       "    <tr>\n",
       "      <th>268845</th>\n",
       "      <td>2016.0</td>\n",
       "      <td>2.0</td>\n",
       "      <td>2.74</td>\n",
       "    </tr>\n",
       "    <tr>\n",
       "      <th>268846</th>\n",
       "      <td>1983.0</td>\n",
       "      <td>1.0</td>\n",
       "      <td>6.49</td>\n",
       "    </tr>\n",
       "    <tr>\n",
       "      <th>268847</th>\n",
       "      <td>1965.0</td>\n",
       "      <td>1.0</td>\n",
       "      <td>2.90</td>\n",
       "    </tr>\n",
       "    <tr>\n",
       "      <th>268848</th>\n",
       "      <td>2019.0</td>\n",
       "      <td>2.0</td>\n",
       "      <td>4.39</td>\n",
       "    </tr>\n",
       "    <tr>\n",
       "      <th>268849</th>\n",
       "      <td>1972.0</td>\n",
       "      <td>2.0</td>\n",
       "      <td>5.00</td>\n",
       "    </tr>\n",
       "  </tbody>\n",
       "</table>\n",
       "<p>257501 rows × 3 columns</p>\n",
       "</div>"
      ],
      "text/plain": [
       "        yearConstructed  floor  pricetrend\n",
       "0                1965.0    1.0        4.62\n",
       "1                1871.0    2.0        3.47\n",
       "2                2019.0    3.0        2.72\n",
       "3                1964.0    3.0        1.53\n",
       "4                1950.0    1.0        2.46\n",
       "...                 ...    ...         ...\n",
       "268845           2016.0    2.0        2.74\n",
       "268846           1983.0    1.0        6.49\n",
       "268847           1965.0    1.0        2.90\n",
       "268848           2019.0    2.0        4.39\n",
       "268849           1972.0    2.0        5.00\n",
       "\n",
       "[257501 rows x 3 columns]"
      ]
     },
     "execution_count": 140,
     "metadata": {},
     "output_type": "execute_result"
    }
   ],
   "source": [
    "apartment_clean_df[columns_to_impute]\n"
   ]
  },
  {
   "cell_type": "markdown",
   "metadata": {},
   "source": [
    "### 2.3.4 Filling catalogues data"
   ]
  },
  {
   "cell_type": "code",
   "execution_count": 141,
   "metadata": {},
   "outputs": [],
   "source": [
    "catalog_df = apartment_clean_df.select_dtypes(include='object').copy().astype('category')\n",
    "# Define the columns to impute\n",
    "columns_cat_to_impute = ['condition', 'heatingType', 'typeOfFlat']"
   ]
  },
  {
   "cell_type": "code",
   "execution_count": 142,
   "metadata": {},
   "outputs": [
    {
     "name": "stdout",
     "output_type": "stream",
     "text": [
      "well_kept                             25.193300\n",
      "refurbished                           10.249281\n",
      "fully_renovated                        9.936272\n",
      "first_time_use                         8.228318\n",
      "mint_condition                         8.106376\n",
      "modernized                             6.474538\n",
      "first_time_use_after_refurbishment     5.866773\n",
      "negotiable                             0.837278\n",
      "need_of_renovation                     0.521163\n",
      "ripe_for_demolition                    0.001165\n",
      "Name: condition, dtype: float64\n",
      "Total: 75.41446440984694\n"
     ]
    }
   ],
   "source": [
    "# Percentage of each type\n",
    "cond_percent1 = 100*(catalog_df['condition'].value_counts() / catalog_df.shape[0])\n",
    "print(cond_percent1)\n",
    "print(f'Total: {sum(cond_percent1)}')"
   ]
  },
  {
   "cell_type": "code",
   "execution_count": 143,
   "metadata": {},
   "outputs": [
    {
     "name": "stdout",
     "output_type": "stream",
     "text": [
      "Iteration: 0\n",
      "Iteration: 1\n"
     ]
    }
   ],
   "source": [
    "catalog_df = categorical_imputation(catalog_df, columns_cat_to_impute)\n"
   ]
  },
  {
   "cell_type": "code",
   "execution_count": 144,
   "metadata": {},
   "outputs": [
    {
     "name": "stdout",
     "output_type": "stream",
     "text": [
      "well_kept                             25.197960\n",
      "fully_renovated                       14.117615\n",
      "need_of_renovation                    13.688102\n",
      "mint_condition                        11.879954\n",
      "refurbished                           10.403843\n",
      "modernized                             8.593753\n",
      "first_time_use                         8.312589\n",
      "first_time_use_after_refurbishment     6.310267\n",
      "negotiable                             1.290480\n",
      "ripe_for_demolition                    0.205436\n",
      "Name: condition, dtype: float64\n",
      "Total: 75.41446440984694\n"
     ]
    }
   ],
   "source": [
    "# Percentage of each type\n",
    "cond_percent_forest = 100*(catalog_df['condition'].value_counts() / catalog_df.shape[0])\n",
    "print(cond_percent_forest)\n",
    "print(f'Total: {sum(cond_percent1)}')"
   ]
  },
  {
   "cell_type": "code",
   "execution_count": 145,
   "metadata": {},
   "outputs": [
    {
     "name": "stdout",
     "output_type": "stream",
     "text": [
      "apartment              49.540390\n",
      "ground_floor           18.182454\n",
      "roof_storey            13.014707\n",
      "half_basement           7.312593\n",
      "other                   3.461346\n",
      "maisonette              3.454744\n",
      "raised_ground_floor     2.132419\n",
      "penthouse               1.281160\n",
      "terraced_flat           1.261354\n",
      "loft                    0.358834\n",
      "Name: typeOfFlat, dtype: float64\n",
      "Total: 100.00000000000003\n"
     ]
    }
   ],
   "source": [
    "# Percentage of each type\n",
    "cond_percent1 = 100*(catalog_df['typeOfFlat'].value_counts() / catalog_df.shape[0])\n",
    "print(cond_percent1)\n",
    "print(f'Total: {sum(cond_percent1)}')"
   ]
  },
  {
   "cell_type": "code",
   "execution_count": 146,
   "metadata": {},
   "outputs": [
    {
     "data": {
      "text/html": [
       "<div>\n",
       "<style scoped>\n",
       "    .dataframe tbody tr th:only-of-type {\n",
       "        vertical-align: middle;\n",
       "    }\n",
       "\n",
       "    .dataframe tbody tr th {\n",
       "        vertical-align: top;\n",
       "    }\n",
       "\n",
       "    .dataframe thead th {\n",
       "        text-align: right;\n",
       "    }\n",
       "</style>\n",
       "<table border=\"1\" class=\"dataframe\">\n",
       "  <thead>\n",
       "    <tr style=\"text-align: right;\">\n",
       "      <th></th>\n",
       "      <th>Missing count</th>\n",
       "      <th>Percentage</th>\n",
       "    </tr>\n",
       "  </thead>\n",
       "  <tbody>\n",
       "    <tr>\n",
       "      <th>heatingType</th>\n",
       "      <td>0</td>\n",
       "      <td>0.0</td>\n",
       "    </tr>\n",
       "    <tr>\n",
       "      <th>condition</th>\n",
       "      <td>0</td>\n",
       "      <td>0.0</td>\n",
       "    </tr>\n",
       "    <tr>\n",
       "      <th>typeOfFlat</th>\n",
       "      <td>0</td>\n",
       "      <td>0.0</td>\n",
       "    </tr>\n",
       "    <tr>\n",
       "      <th>regio2</th>\n",
       "      <td>0</td>\n",
       "      <td>0.0</td>\n",
       "    </tr>\n",
       "  </tbody>\n",
       "</table>\n",
       "</div>"
      ],
      "text/plain": [
       "             Missing count  Percentage\n",
       "heatingType              0         0.0\n",
       "condition                0         0.0\n",
       "typeOfFlat               0         0.0\n",
       "regio2                   0         0.0"
      ]
     },
     "execution_count": 146,
     "metadata": {},
     "output_type": "execute_result"
    }
   ],
   "source": [
    "count_missing_values(catalog_df)"
   ]
  },
  {
   "cell_type": "code",
   "execution_count": 147,
   "metadata": {},
   "outputs": [],
   "source": [
    "apartment_clean_df[columns_cat_to_impute] = catalog_df[columns_cat_to_impute]"
   ]
  },
  {
   "cell_type": "code",
   "execution_count": 148,
   "metadata": {},
   "outputs": [
    {
     "data": {
      "text/html": [
       "<div>\n",
       "<style scoped>\n",
       "    .dataframe tbody tr th:only-of-type {\n",
       "        vertical-align: middle;\n",
       "    }\n",
       "\n",
       "    .dataframe tbody tr th {\n",
       "        vertical-align: top;\n",
       "    }\n",
       "\n",
       "    .dataframe thead th {\n",
       "        text-align: right;\n",
       "    }\n",
       "</style>\n",
       "<table border=\"1\" class=\"dataframe\">\n",
       "  <thead>\n",
       "    <tr style=\"text-align: right;\">\n",
       "      <th></th>\n",
       "      <th>Missing count</th>\n",
       "      <th>Percentage</th>\n",
       "    </tr>\n",
       "  </thead>\n",
       "  <tbody>\n",
       "    <tr>\n",
       "      <th>serviceCharge</th>\n",
       "      <td>0</td>\n",
       "      <td>0.0</td>\n",
       "    </tr>\n",
       "    <tr>\n",
       "      <th>heatingType</th>\n",
       "      <td>0</td>\n",
       "      <td>0.0</td>\n",
       "    </tr>\n",
       "    <tr>\n",
       "      <th>newlyConst</th>\n",
       "      <td>0</td>\n",
       "      <td>0.0</td>\n",
       "    </tr>\n",
       "    <tr>\n",
       "      <th>balcony</th>\n",
       "      <td>0</td>\n",
       "      <td>0.0</td>\n",
       "    </tr>\n",
       "    <tr>\n",
       "      <th>picturecount</th>\n",
       "      <td>0</td>\n",
       "      <td>0.0</td>\n",
       "    </tr>\n",
       "    <tr>\n",
       "      <th>pricetrend</th>\n",
       "      <td>0</td>\n",
       "      <td>0.0</td>\n",
       "    </tr>\n",
       "    <tr>\n",
       "      <th>totalRent</th>\n",
       "      <td>0</td>\n",
       "      <td>0.0</td>\n",
       "    </tr>\n",
       "    <tr>\n",
       "      <th>yearConstructed</th>\n",
       "      <td>0</td>\n",
       "      <td>0.0</td>\n",
       "    </tr>\n",
       "    <tr>\n",
       "      <th>hasKitchen</th>\n",
       "      <td>0</td>\n",
       "      <td>0.0</td>\n",
       "    </tr>\n",
       "    <tr>\n",
       "      <th>cellar</th>\n",
       "      <td>0</td>\n",
       "      <td>0.0</td>\n",
       "    </tr>\n",
       "    <tr>\n",
       "      <th>baseRent</th>\n",
       "      <td>0</td>\n",
       "      <td>0.0</td>\n",
       "    </tr>\n",
       "    <tr>\n",
       "      <th>livingSpace</th>\n",
       "      <td>0</td>\n",
       "      <td>0.0</td>\n",
       "    </tr>\n",
       "    <tr>\n",
       "      <th>condition</th>\n",
       "      <td>0</td>\n",
       "      <td>0.0</td>\n",
       "    </tr>\n",
       "    <tr>\n",
       "      <th>lift</th>\n",
       "      <td>0</td>\n",
       "      <td>0.0</td>\n",
       "    </tr>\n",
       "    <tr>\n",
       "      <th>typeOfFlat</th>\n",
       "      <td>0</td>\n",
       "      <td>0.0</td>\n",
       "    </tr>\n",
       "    <tr>\n",
       "      <th>geo_plz</th>\n",
       "      <td>0</td>\n",
       "      <td>0.0</td>\n",
       "    </tr>\n",
       "    <tr>\n",
       "      <th>noRooms</th>\n",
       "      <td>0</td>\n",
       "      <td>0.0</td>\n",
       "    </tr>\n",
       "    <tr>\n",
       "      <th>floor</th>\n",
       "      <td>0</td>\n",
       "      <td>0.0</td>\n",
       "    </tr>\n",
       "    <tr>\n",
       "      <th>garden</th>\n",
       "      <td>0</td>\n",
       "      <td>0.0</td>\n",
       "    </tr>\n",
       "    <tr>\n",
       "      <th>regio2</th>\n",
       "      <td>0</td>\n",
       "      <td>0.0</td>\n",
       "    </tr>\n",
       "  </tbody>\n",
       "</table>\n",
       "</div>"
      ],
      "text/plain": [
       "                 Missing count  Percentage\n",
       "serviceCharge                0         0.0\n",
       "heatingType                  0         0.0\n",
       "newlyConst                   0         0.0\n",
       "balcony                      0         0.0\n",
       "picturecount                 0         0.0\n",
       "pricetrend                   0         0.0\n",
       "totalRent                    0         0.0\n",
       "yearConstructed              0         0.0\n",
       "hasKitchen                   0         0.0\n",
       "cellar                       0         0.0\n",
       "baseRent                     0         0.0\n",
       "livingSpace                  0         0.0\n",
       "condition                    0         0.0\n",
       "lift                         0         0.0\n",
       "typeOfFlat                   0         0.0\n",
       "geo_plz                      0         0.0\n",
       "noRooms                      0         0.0\n",
       "floor                        0         0.0\n",
       "garden                       0         0.0\n",
       "regio2                       0         0.0"
      ]
     },
     "execution_count": 148,
     "metadata": {},
     "output_type": "execute_result"
    }
   ],
   "source": [
    "count_missing_values(apartment_clean_df)\n"
   ]
  },
  {
   "cell_type": "markdown",
   "metadata": {},
   "source": [
    "# 3. Features engineering"
   ]
  },
  {
   "cell_type": "markdown",
   "metadata": {},
   "source": [
    "## 3.1 Convert all location data to the distance from them to **Stuttgart** (48.7758° N, 9.1829° E)\n",
    "The rental price of apartment ... uhm ... uhm, Location, Location, and Location.\n",
    "\n",
    "The location is important features for predicting rental prices. These features can provide valuable spatial information that may contribute to the model's predictive power. This dataset has 6 columns related to location, which can greatly reduce to one column `distance`.\\\n",
    "The distance to a specific location is measurable, numeric, and distinct, will work nicely for regression model. Stuttgart is chosen for reference point.\n"
   ]
  },
  {
   "cell_type": "markdown",
   "metadata": {},
   "source": [
    "The data for coordinates is from: https://gist.github.com/iteufel/af379872bbc3bf5261e2fd09b681ff7e.\\\n",
    "Then, it is converted to csv using function `sql2csv` in `src/data_processing.py`"
   ]
  },
  {
   "cell_type": "code",
   "execution_count": 149,
   "metadata": {},
   "outputs": [],
   "source": [
    "zip_coordinates = pd.read_csv('../data/zip_coordinates.csv', header=0)"
   ]
  },
  {
   "cell_type": "markdown",
   "metadata": {},
   "source": [
    "Matching the zipcodes with col. `geo_plz`, then add the corresponding latitude and longitude coordinate."
   ]
  },
  {
   "cell_type": "code",
   "execution_count": 150,
   "metadata": {},
   "outputs": [],
   "source": [
    "merged_df = pd.merge_asof(apartment_clean_df.sort_values('geo_plz'),\n",
    "                               zip_coordinates[['zipcode','lat', 'lon']].sort_values('zipcode'),\n",
    "                               left_on='geo_plz', right_on='zipcode',\n",
    "                               direction='nearest')"
   ]
  },
  {
   "cell_type": "code",
   "execution_count": 151,
   "metadata": {},
   "outputs": [
    {
     "name": "stdout",
     "output_type": "stream",
     "text": [
      "Verification Result:\n",
      "Matched: 256236\n",
      "Mismatched: 1265 (0.491260 %)\n"
     ]
    }
   ],
   "source": [
    "# Verifying the results\n",
    "verification_result = merged_df['geo_plz'] == merged_df['zipcode']\n",
    "\n",
    "# Count the number of discrepancies\n",
    "num_discrepancies = verification_result.value_counts()\n",
    "percent = 100 * (num_discrepancies[False] / merged_df.shape[0])\n",
    "# Display the verification result\n",
    "print(\"Verification Result:\")\n",
    "print(f\"Matched: {num_discrepancies[True]}\")\n",
    "print(f\"Mismatched: {num_discrepancies[False]} ({percent:2f} %)\")"
   ]
  },
  {
   "cell_type": "markdown",
   "metadata": {},
   "source": [
    "* The mismatched is only about $0.5 \\%$, so far so good. Compute the distance from Stuttgart ($48.7758° N, 9.1829° E$) for all the rows."
   ]
  },
  {
   "cell_type": "code",
   "execution_count": 152,
   "metadata": {},
   "outputs": [],
   "source": [
    "# Reference coordinates for Stuttgart\n",
    "ref_lat = 48.7758\n",
    "ref_lon = 9.1829\n",
    "# Create a new column 'distance' using the haversine_distance_cudf function\n",
    "merged_df['distance'] = haversine_distance(merged_df['lat'],\n",
    "                                           merged_df['lon'],\n",
    "                                           ref_lat, ref_lon)"
   ]
  },
  {
   "cell_type": "code",
   "execution_count": 153,
   "metadata": {},
   "outputs": [
    {
     "data": {
      "text/plain": [
       "count    257501.000000\n",
       "mean        335.582935\n",
       "std         132.203521\n",
       "min           0.842192\n",
       "25%         278.961067\n",
       "50%         342.334535\n",
       "75%         406.225747\n",
       "max         716.405714\n",
       "Name: distance, dtype: float64"
      ]
     },
     "execution_count": 153,
     "metadata": {},
     "output_type": "execute_result"
    }
   ],
   "source": [
    "merged_df['distance'].describe()"
   ]
  },
  {
   "cell_type": "markdown",
   "metadata": {},
   "source": [
    "The statistics is appropriatley and make sense: $min >0$, $std = 133$"
   ]
  },
  {
   "cell_type": "code",
   "execution_count": 154,
   "metadata": {},
   "outputs": [
    {
     "data": {
      "image/png": "[encoded data removed]",
      "text/plain": [
       "<Figure size 800x600 with 1 Axes>"
      ]
     },
     "metadata": {},
     "output_type": "display_data"
    }
   ],
   "source": [
    "plot_custom_histogram(merged_df, x='distance', xlabel=\"Distance [km]\", ylabel=\"Number of listings\",\n",
    "                       title=\"Distance from rental properties to Stuttgart [km]\")\n"
   ]
  },
  {
   "cell_type": "markdown",
   "metadata": {},
   "source": [
    "Now, distance will present the influence of locations, drop all other location related colmns"
   ]
  },
  {
   "cell_type": "code",
   "execution_count": 155,
   "metadata": {},
   "outputs": [],
   "source": [
    "merged_df = merged_df.drop(['geo_plz','zipcode', 'lat', 'lon'], axis=1)"
   ]
  },
  {
   "cell_type": "code",
   "execution_count": 156,
   "metadata": {},
   "outputs": [
    {
     "data": {
      "text/html": [
       "<div>\n",
       "<style scoped>\n",
       "    .dataframe tbody tr th:only-of-type {\n",
       "        vertical-align: middle;\n",
       "    }\n",
       "\n",
       "    .dataframe tbody tr th {\n",
       "        vertical-align: top;\n",
       "    }\n",
       "\n",
       "    .dataframe thead th {\n",
       "        text-align: right;\n",
       "    }\n",
       "</style>\n",
       "<table border=\"1\" class=\"dataframe\">\n",
       "  <thead>\n",
       "    <tr style=\"text-align: right;\">\n",
       "      <th></th>\n",
       "      <th>serviceCharge</th>\n",
       "      <th>heatingType</th>\n",
       "      <th>newlyConst</th>\n",
       "      <th>balcony</th>\n",
       "      <th>picturecount</th>\n",
       "      <th>pricetrend</th>\n",
       "      <th>totalRent</th>\n",
       "      <th>yearConstructed</th>\n",
       "      <th>hasKitchen</th>\n",
       "      <th>cellar</th>\n",
       "      <th>baseRent</th>\n",
       "      <th>livingSpace</th>\n",
       "      <th>condition</th>\n",
       "      <th>lift</th>\n",
       "      <th>typeOfFlat</th>\n",
       "      <th>noRooms</th>\n",
       "      <th>floor</th>\n",
       "      <th>garden</th>\n",
       "      <th>regio2</th>\n",
       "      <th>distance</th>\n",
       "    </tr>\n",
       "  </thead>\n",
       "  <tbody>\n",
       "    <tr>\n",
       "      <th>0</th>\n",
       "      <td>158.00</td>\n",
       "      <td>central_heating</td>\n",
       "      <td>False</td>\n",
       "      <td>True</td>\n",
       "      <td>13</td>\n",
       "      <td>2.29</td>\n",
       "      <td>623.0</td>\n",
       "      <td>1985.0</td>\n",
       "      <td>False</td>\n",
       "      <td>True</td>\n",
       "      <td>465.0</td>\n",
       "      <td>78.70</td>\n",
       "      <td>modernized</td>\n",
       "      <td>False</td>\n",
       "      <td>other</td>\n",
       "      <td>3.0</td>\n",
       "      <td>2.0</td>\n",
       "      <td>False</td>\n",
       "      <td>Plauen</td>\n",
       "      <td>413.262119</td>\n",
       "    </tr>\n",
       "    <tr>\n",
       "      <th>1</th>\n",
       "      <td>74.00</td>\n",
       "      <td>electric_heating</td>\n",
       "      <td>False</td>\n",
       "      <td>True</td>\n",
       "      <td>6</td>\n",
       "      <td>3.70</td>\n",
       "      <td>272.0</td>\n",
       "      <td>1985.0</td>\n",
       "      <td>False</td>\n",
       "      <td>True</td>\n",
       "      <td>198.0</td>\n",
       "      <td>45.00</td>\n",
       "      <td>mint_condition</td>\n",
       "      <td>False</td>\n",
       "      <td>other</td>\n",
       "      <td>2.0</td>\n",
       "      <td>2.0</td>\n",
       "      <td>False</td>\n",
       "      <td>Plauen</td>\n",
       "      <td>413.262119</td>\n",
       "    </tr>\n",
       "    <tr>\n",
       "      <th>2</th>\n",
       "      <td>225.00</td>\n",
       "      <td>electric_heating</td>\n",
       "      <td>False</td>\n",
       "      <td>True</td>\n",
       "      <td>15</td>\n",
       "      <td>2.29</td>\n",
       "      <td>978.0</td>\n",
       "      <td>1985.0</td>\n",
       "      <td>True</td>\n",
       "      <td>True</td>\n",
       "      <td>753.0</td>\n",
       "      <td>112.31</td>\n",
       "      <td>first_time_use_after_refurbishment</td>\n",
       "      <td>False</td>\n",
       "      <td>maisonette</td>\n",
       "      <td>4.0</td>\n",
       "      <td>3.0</td>\n",
       "      <td>False</td>\n",
       "      <td>Plauen</td>\n",
       "      <td>413.262119</td>\n",
       "    </tr>\n",
       "    <tr>\n",
       "      <th>3</th>\n",
       "      <td>130.00</td>\n",
       "      <td>central_heating</td>\n",
       "      <td>False</td>\n",
       "      <td>False</td>\n",
       "      <td>6</td>\n",
       "      <td>1.92</td>\n",
       "      <td>520.0</td>\n",
       "      <td>1900.0</td>\n",
       "      <td>False</td>\n",
       "      <td>True</td>\n",
       "      <td>390.0</td>\n",
       "      <td>49.15</td>\n",
       "      <td>refurbished</td>\n",
       "      <td>False</td>\n",
       "      <td>roof_storey</td>\n",
       "      <td>2.0</td>\n",
       "      <td>3.0</td>\n",
       "      <td>False</td>\n",
       "      <td>Dresden</td>\n",
       "      <td>413.262119</td>\n",
       "    </tr>\n",
       "    <tr>\n",
       "      <th>4</th>\n",
       "      <td>130.00</td>\n",
       "      <td>central_heating</td>\n",
       "      <td>False</td>\n",
       "      <td>False</td>\n",
       "      <td>6</td>\n",
       "      <td>2.19</td>\n",
       "      <td>520.0</td>\n",
       "      <td>1900.0</td>\n",
       "      <td>False</td>\n",
       "      <td>True</td>\n",
       "      <td>390.0</td>\n",
       "      <td>49.15</td>\n",
       "      <td>refurbished</td>\n",
       "      <td>False</td>\n",
       "      <td>roof_storey</td>\n",
       "      <td>2.0</td>\n",
       "      <td>3.0</td>\n",
       "      <td>False</td>\n",
       "      <td>Dresden</td>\n",
       "      <td>413.262119</td>\n",
       "    </tr>\n",
       "    <tr>\n",
       "      <th>...</th>\n",
       "      <td>...</td>\n",
       "      <td>...</td>\n",
       "      <td>...</td>\n",
       "      <td>...</td>\n",
       "      <td>...</td>\n",
       "      <td>...</td>\n",
       "      <td>...</td>\n",
       "      <td>...</td>\n",
       "      <td>...</td>\n",
       "      <td>...</td>\n",
       "      <td>...</td>\n",
       "      <td>...</td>\n",
       "      <td>...</td>\n",
       "      <td>...</td>\n",
       "      <td>...</td>\n",
       "      <td>...</td>\n",
       "      <td>...</td>\n",
       "      <td>...</td>\n",
       "      <td>...</td>\n",
       "      <td>...</td>\n",
       "    </tr>\n",
       "    <tr>\n",
       "      <th>257496</th>\n",
       "      <td>80.00</td>\n",
       "      <td>gas_heating</td>\n",
       "      <td>True</td>\n",
       "      <td>True</td>\n",
       "      <td>40</td>\n",
       "      <td>1.84</td>\n",
       "      <td>480.0</td>\n",
       "      <td>2019.0</td>\n",
       "      <td>False</td>\n",
       "      <td>True</td>\n",
       "      <td>320.0</td>\n",
       "      <td>72.00</td>\n",
       "      <td>fully_renovated</td>\n",
       "      <td>False</td>\n",
       "      <td>apartment</td>\n",
       "      <td>3.0</td>\n",
       "      <td>0.0</td>\n",
       "      <td>True</td>\n",
       "      <td>Unstrut_Hainich_Kreis</td>\n",
       "      <td>294.172476</td>\n",
       "    </tr>\n",
       "    <tr>\n",
       "      <th>257497</th>\n",
       "      <td>80.00</td>\n",
       "      <td>gas_heating</td>\n",
       "      <td>True</td>\n",
       "      <td>True</td>\n",
       "      <td>40</td>\n",
       "      <td>1.84</td>\n",
       "      <td>480.0</td>\n",
       "      <td>2019.0</td>\n",
       "      <td>False</td>\n",
       "      <td>True</td>\n",
       "      <td>320.0</td>\n",
       "      <td>72.00</td>\n",
       "      <td>fully_renovated</td>\n",
       "      <td>False</td>\n",
       "      <td>apartment</td>\n",
       "      <td>4.0</td>\n",
       "      <td>0.0</td>\n",
       "      <td>True</td>\n",
       "      <td>Unstrut_Hainich_Kreis</td>\n",
       "      <td>294.172476</td>\n",
       "    </tr>\n",
       "    <tr>\n",
       "      <th>257498</th>\n",
       "      <td>58.25</td>\n",
       "      <td>combined_heat_and_power_plant</td>\n",
       "      <td>False</td>\n",
       "      <td>True</td>\n",
       "      <td>4</td>\n",
       "      <td>1.99</td>\n",
       "      <td>479.0</td>\n",
       "      <td>1997.0</td>\n",
       "      <td>False</td>\n",
       "      <td>False</td>\n",
       "      <td>363.0</td>\n",
       "      <td>58.25</td>\n",
       "      <td>mint_condition</td>\n",
       "      <td>False</td>\n",
       "      <td>ground_floor</td>\n",
       "      <td>2.0</td>\n",
       "      <td>2.0</td>\n",
       "      <td>False</td>\n",
       "      <td>Unstrut_Hainich_Kreis</td>\n",
       "      <td>294.172476</td>\n",
       "    </tr>\n",
       "    <tr>\n",
       "      <th>257499</th>\n",
       "      <td>100.00</td>\n",
       "      <td>combined_heat_and_power_plant</td>\n",
       "      <td>False</td>\n",
       "      <td>False</td>\n",
       "      <td>8</td>\n",
       "      <td>1.75</td>\n",
       "      <td>500.0</td>\n",
       "      <td>1985.0</td>\n",
       "      <td>False</td>\n",
       "      <td>False</td>\n",
       "      <td>400.0</td>\n",
       "      <td>120.00</td>\n",
       "      <td>mint_condition</td>\n",
       "      <td>False</td>\n",
       "      <td>ground_floor</td>\n",
       "      <td>4.0</td>\n",
       "      <td>2.0</td>\n",
       "      <td>False</td>\n",
       "      <td>Unstrut_Hainich_Kreis</td>\n",
       "      <td>290.913886</td>\n",
       "    </tr>\n",
       "    <tr>\n",
       "      <th>257500</th>\n",
       "      <td>180.00</td>\n",
       "      <td>district_heating</td>\n",
       "      <td>False</td>\n",
       "      <td>False</td>\n",
       "      <td>3</td>\n",
       "      <td>1.75</td>\n",
       "      <td>627.0</td>\n",
       "      <td>1985.0</td>\n",
       "      <td>False</td>\n",
       "      <td>False</td>\n",
       "      <td>447.0</td>\n",
       "      <td>90.00</td>\n",
       "      <td>fully_renovated</td>\n",
       "      <td>False</td>\n",
       "      <td>roof_storey</td>\n",
       "      <td>4.0</td>\n",
       "      <td>2.0</td>\n",
       "      <td>False</td>\n",
       "      <td>Unstrut_Hainich_Kreis</td>\n",
       "      <td>290.913886</td>\n",
       "    </tr>\n",
       "  </tbody>\n",
       "</table>\n",
       "<p>257501 rows × 20 columns</p>\n",
       "</div>"
      ],
      "text/plain": [
       "        serviceCharge                    heatingType  newlyConst  balcony  picturecount  pricetrend  totalRent  yearConstructed  hasKitchen  cellar  baseRent  livingSpace                           condition   lift    typeOfFlat  noRooms  floor  garden                 regio2    distance\n",
       "0              158.00                central_heating       False     True            13        2.29      623.0           1985.0       False    True     465.0        78.70                          modernized  False         other      3.0    2.0   False                 Plauen  413.262119\n",
       "1               74.00               electric_heating       False     True             6        3.70      272.0           1985.0       False    True     198.0        45.00                      mint_condition  False         other      2.0    2.0   False                 Plauen  413.262119\n",
       "2              225.00               electric_heating       False     True            15        2.29      978.0           1985.0        True    True     753.0       112.31  first_time_use_after_refurbishment  False    maisonette      4.0    3.0   False                 Plauen  413.262119\n",
       "3              130.00                central_heating       False    False             6        1.92      520.0           1900.0       False    True     390.0        49.15                         refurbished  False   roof_storey      2.0    3.0   False                Dresden  413.262119\n",
       "4              130.00                central_heating       False    False             6        2.19      520.0           1900.0       False    True     390.0        49.15                         refurbished  False   roof_storey      2.0    3.0   False                Dresden  413.262119\n",
       "...               ...                            ...         ...      ...           ...         ...        ...              ...         ...     ...       ...          ...                                 ...    ...           ...      ...    ...     ...                    ...         ...\n",
       "257496          80.00                    gas_heating        True     True            40        1.84      480.0           2019.0       False    True     320.0        72.00                     fully_renovated  False     apartment      3.0    0.0    True  Unstrut_Hainich_Kreis  294.172476\n",
       "257497          80.00                    gas_heating        True     True            40        1.84      480.0           2019.0       False    True     320.0        72.00                     fully_renovated  False     apartment      4.0    0.0    True  Unstrut_Hainich_Kreis  294.172476\n",
       "257498          58.25  combined_heat_and_power_plant       False     True             4        1.99      479.0           1997.0       False   False     363.0        58.25                      mint_condition  False  ground_floor      2.0    2.0   False  Unstrut_Hainich_Kreis  294.172476\n",
       "257499         100.00  combined_heat_and_power_plant       False    False             8        1.75      500.0           1985.0       False   False     400.0       120.00                      mint_condition  False  ground_floor      4.0    2.0   False  Unstrut_Hainich_Kreis  290.913886\n",
       "257500         180.00               district_heating       False    False             3        1.75      627.0           1985.0       False   False     447.0        90.00                     fully_renovated  False   roof_storey      4.0    2.0   False  Unstrut_Hainich_Kreis  290.913886\n",
       "\n",
       "[257501 rows x 20 columns]"
      ]
     },
     "execution_count": 156,
     "metadata": {},
     "output_type": "execute_result"
    }
   ],
   "source": [
    "merged_df"
   ]
  },
  {
   "cell_type": "code",
   "execution_count": null,
   "metadata": {},
   "outputs": [],
   "source": []
  }
 ],
 "metadata": {
  "kernelspec": {
   "display_name": "venv",
   "language": "python",
   "name": "python3"
  },
  "language_info": {
   "codemirror_mode": {
    "name": "ipython",
    "version": 3
   },
   "file_extension": ".py",
   "mimetype": "text/x-python",
   "name": "python",
   "nbconvert_exporter": "python",
   "pygments_lexer": "ipython3",
   "version": "3.10.12"
  }
 },
 "nbformat": 4,
 "nbformat_minor": 2
}
